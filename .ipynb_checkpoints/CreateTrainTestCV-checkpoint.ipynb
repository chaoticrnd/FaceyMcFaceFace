{
 "cells": [
  {
   "cell_type": "code",
   "execution_count": 1,
   "metadata": {
    "collapsed": true
   },
   "outputs": [],
   "source": [
    "import pandas as pd\n",
    "from pandas import DataFrame, Series\n",
    "import numpy as np\n",
    "import dlib\n",
    "import os"
   ]
  },
  {
   "cell_type": "markdown",
   "metadata": {},
   "source": [
    "### Import fer2013 dataset"
   ]
  },
  {
   "cell_type": "code",
   "execution_count": 2,
   "metadata": {},
   "outputs": [
    {
     "name": "stdout",
     "output_type": "stream",
     "text": [
      "Loading dataset...\n",
      "Creating dataframe...\n",
      "   emotion                                             pixels     Usage  \\\n",
      "0        0  70 80 82 72 58 58 60 63 54 58 60 48 89 115 121...  Training   \n",
      "1        0  151 150 147 155 148 133 111 140 170 174 182 15...  Training   \n",
      "2        2  231 212 156 164 174 138 161 173 182 200 106 38...  Training   \n",
      "3        4  24 32 36 30 32 23 19 20 30 41 21 22 32 34 21 1...  Training   \n",
      "4        6  4 0 0 0 0 0 0 0 0 0 0 0 3 15 23 28 48 50 58 84...  Training   \n",
      "\n",
      "                                                 img      org_dim  \n",
      "0  [[[70.0, 80.0, 82.0, 72.0, 58.0, 58.0, 60.0, 6...  (1, 48, 48)  \n",
      "1  [[[151.0, 150.0, 147.0, 155.0, 148.0, 133.0, 1...  (1, 48, 48)  \n",
      "2  [[[231.0, 212.0, 156.0, 164.0, 174.0, 138.0, 1...  (1, 48, 48)  \n",
      "3  [[[24.0, 32.0, 36.0, 30.0, 32.0, 23.0, 19.0, 2...  (1, 48, 48)  \n",
      "4  [[[4.0, 0.0, 0.0, 0.0, 0.0, 0.0, 0.0, 0.0, 0.0...  (1, 48, 48)  \n"
     ]
    }
   ],
   "source": [
    "def reconstruct(str_arr):\n",
    "    vec = np.array(str_arr.split()).astype(float)\n",
    "    return vec.reshape(1,48,48)\n",
    "\n",
    "print('Loading dataset...')\n",
    "fer_df = pd.read_csv('/Users/lab/Documents/Datasets/fer2013/fer2013.csv')\n",
    "\n",
    "print('Creating dataframe...')\n",
    "fer_df['img'] = fer_df['pixels'].map(lambda x: reconstruct(x))\n",
    "fer_df['org_dim'] = fer_df['img'].map(lambda x: x.shape)\n",
    "print(fer_df.head())"
   ]
  },
  {
   "cell_type": "markdown",
   "metadata": {},
   "source": [
    "### Import Ultimate dataset"
   ]
  },
  {
   "cell_type": "markdown",
   "metadata": {},
   "source": [
    "#### How many of each file type?"
   ]
  },
  {
   "cell_type": "code",
   "execution_count": 4,
   "metadata": {},
   "outputs": [
    {
     "name": "stdout",
     "output_type": "stream",
     "text": [
      "/Users/lab/Documents/Datasets/ulitmateEmotion/emotion\\Angry\n",
      ".DS_Store\n",
      "/Users/lab/Documents/Datasets/ulitmateEmotion/emotion\\Disgust\n",
      ".DS_Store\n",
      "/Users/lab/Documents/Datasets/ulitmateEmotion/emotion\\Fear\n",
      ".DS_Store\n",
      "/Users/lab/Documents/Datasets/ulitmateEmotion/emotion\\Happy\n",
      ".DS_Store\n",
      "7cbc7eab-d9a7-4eb8-911c-83e1.textClipping\n",
      "/Users/lab/Documents/Datasets/ulitmateEmotion/emotion\\Neutral\n",
      ".DS_Store\n",
      "4a83ebd4-96bf-4389-baac-7270.textClipping\n",
      "/Users/lab/Documents/Datasets/ulitmateEmotion/emotion\\Sad\n",
      ".DS_Store\n",
      "/Users/lab/Documents/Datasets/ulitmateEmotion/emotion\\silly\n",
      "/Users/lab/Documents/Datasets/ulitmateEmotion/emotion\\Surprise\n",
      ".DS_Store\n",
      "jpg    2381\n",
      "JPG     981\n",
      "png     617\n",
      "Name: ftype, dtype: int64\n"
     ]
    }
   ],
   "source": [
    "from PIL import Image\n",
    "\n",
    "emotion_map = {'Angry': 0, 'Disgust': 1, 'Fear': 2, 'Happy': 3,\n",
    "           'Sad': 4, 'Surprise': 5, 'Neutral': 6}\n",
    "\n",
    "imgs = {'img': [], 'ftype': []}\n",
    "\n",
    "for root,dirs,files in os.walk('/Users/lab/Documents/Datasets/ulitmateEmotion/emotion', topdown=False):\n",
    "    if(root.find('\\\\') != -1):\n",
    "        print(root)\n",
    "        emotion = root.split('\\\\')[1]\n",
    "        if emotion in emotion_map.keys():    \n",
    "            for file in files:\n",
    "                ftype = file.split('.')[-1]\n",
    "                try:\n",
    "                    img = Image.open(os.path.join(root,file)).convert('L')\n",
    "                    img_arr = np.asarray(img, dtype=np.float32)\n",
    "                    imgs['img'].append(img_arr)\n",
    "                    imgs['ftype'].append(ftype)\n",
    "                except OSError as e:\n",
    "                    print(file)\n",
    "\n",
    "img_ftype_df = DataFrame.from_dict(imgs)\n",
    "print(img_ftype_df['ftype'].value_counts())\n"
   ]
  },
  {
   "cell_type": "markdown",
   "metadata": {},
   "source": [
    "#### Create image df with org_dim"
   ]
  },
  {
   "cell_type": "code",
   "execution_count": 5,
   "metadata": {},
   "outputs": [
    {
     "name": "stdout",
     "output_type": "stream",
     "text": [
      "/Users/lab/Documents/Datasets/ulitmateEmotion/emotion\\Angry\n",
      "/Users/lab/Documents/Datasets/ulitmateEmotion/emotion\\Disgust\n",
      "/Users/lab/Documents/Datasets/ulitmateEmotion/emotion\\Fear\n",
      "/Users/lab/Documents/Datasets/ulitmateEmotion/emotion\\Happy\n",
      "/Users/lab/Documents/Datasets/ulitmateEmotion/emotion\\Neutral\n",
      "/Users/lab/Documents/Datasets/ulitmateEmotion/emotion\\Sad\n",
      "/Users/lab/Documents/Datasets/ulitmateEmotion/emotion\\silly\n",
      "/Users/lab/Documents/Datasets/ulitmateEmotion/emotion\\Surprise\n",
      "   emotion                                                img        org_dim\n",
      "0        0  [[[152.0, 166.0, 184.0, 189.0, 188.0, 186.0, 1...  (1, 240, 240)\n",
      "1        0  [[[36.0, 85.0, 129.0, 167.0, 201.0, 208.0, 170...  (1, 490, 640)\n",
      "2        0  [[[71.0, 253.0, 254.0, 249.0, 250.0, 250.0, 24...  (1, 480, 720)\n",
      "3        0  [[[63.0, 253.0, 239.0, 225.0, 228.0, 227.0, 23...  (1, 480, 720)\n",
      "4        0  [[[114.0, 74.0, 60.0, 53.0, 56.0, 68.0, 59.0, ...  (1, 240, 240)\n"
     ]
    }
   ],
   "source": [
    "from PIL import Image\n",
    "\n",
    "emotion_map = {'Angry': 0, 'Disgust': 1, 'Fear': 2, 'Happy': 3,\n",
    "           'Sad': 4, 'Surprise': 5, 'Neutral': 6}\n",
    "\n",
    "imgs_dict = {'emotion':[], 'img':[]}\n",
    "for root,dirs,files in os.walk('/Users/lab/Documents/Datasets/ulitmateEmotion/emotion', topdown=False):\n",
    "    if(root.find('\\\\') != -1):\n",
    "        print(root)\n",
    "        emotion = root.split('\\\\')[1]\n",
    "        if emotion in emotion_map.keys():    \n",
    "            for file in files:\n",
    "                if file.lower().find('.jpg') != -1 or file.lower().find('.png') != -1:\n",
    "                    img = Image.open(os.path.join(root,file)).convert('L')\n",
    "                    img_arr = np.asarray(img, dtype=np.float32)\n",
    "                    img_arr = img_arr.reshape(1, img_arr.shape[0], img_arr.shape[1])\n",
    "                    imgs_dict['img'].append(img_arr)\n",
    "                    imgs_dict['emotion'].append(emotion_map[emotion])\n",
    "\n",
    "imgs_df = DataFrame.from_dict(imgs_dict)\n",
    "imgs_df['org_dim'] = imgs_df['img'].map(lambda x: x.shape)\n",
    "\n",
    "print(imgs_df.head())"
   ]
  },
  {
   "cell_type": "markdown",
   "metadata": {},
   "source": [
    "### Merge dfs"
   ]
  },
  {
   "cell_type": "code",
   "execution_count": 6,
   "metadata": {},
   "outputs": [
    {
     "name": "stdout",
     "output_type": "stream",
     "text": [
      "39866\n"
     ]
    }
   ],
   "source": [
    "fer_df = fer_df[['emotion','img','org_dim']]\n",
    "all_imgs = pd.concat([imgs_df,fer_df])\n",
    "\n",
    "#create range(0, len(all_imgs)) index\n",
    "all_imgs = all_imgs.reset_index()\n",
    "\n",
    "print(len(all_imgs))"
   ]
  },
  {
   "cell_type": "markdown",
   "metadata": {},
   "source": [
    "#### How many imgs are square?"
   ]
  },
  {
   "cell_type": "code",
   "execution_count": 7,
   "metadata": {
    "scrolled": true
   },
   "outputs": [
    {
     "name": "stdout",
     "output_type": "stream",
     "text": [
      "True     38193\n",
      "False     1673\n",
      "Name: org_dim, dtype: int64\n"
     ]
    }
   ],
   "source": [
    "print(all_imgs['org_dim'].map(lambda x: x[1] == x[2]).value_counts())"
   ]
  },
  {
   "cell_type": "markdown",
   "metadata": {},
   "source": [
    "### Resize imgs to 96x96"
   ]
  },
  {
   "cell_type": "code",
   "execution_count": 10,
   "metadata": {},
   "outputs": [
    {
     "name": "stdout",
     "output_type": "stream",
     "text": [
      "sqr_imgs len: 38193\n"
     ]
    },
    {
     "name": "stderr",
     "output_type": "stream",
     "text": [
      "c:\\users\\lab\\anaconda3\\envs\\emotion\\lib\\site-packages\\ipykernel_launcher.py:19: SettingWithCopyWarning: \n",
      "A value is trying to be set on a copy of a slice from a DataFrame.\n",
      "Try using .loc[row_indexer,col_indexer] = value instead\n",
      "\n",
      "See the caveats in the documentation: http://pandas.pydata.org/pandas-docs/stable/indexing.html#indexing-view-versus-copy\n"
     ]
    }
   ],
   "source": [
    "import matplotlib.pyplot as plt\n",
    "import matplotlib.image as mpimg\n",
    "%matplotlib inline\n",
    "import random\n",
    "\n",
    "def scale_img(img, size=(96, 96)):\n",
    "    img = img.reshape(img.shape[1], img.shape[2])\n",
    "    pil_img = Image.fromarray(img)\n",
    "    pil_img = pil_img.resize(size, resample=Image.LANCZOS)\n",
    "    scaled_img = np.asarray(pil_img)\n",
    "    scaled_img = scaled_img.reshape(1, scaled_img.shape[0], scaled_img.shape[1])\n",
    "    return scaled_img\n",
    "\n",
    "all_imgs['is_square'] = all_imgs['org_dim'].map(lambda x: x[1] == x[2])\n",
    "\n",
    "sqr_imgs = all_imgs[all_imgs['is_square'] == True]\n",
    "print('sqr_imgs len: {}'.format(len(sqr_imgs)))\n",
    "\n",
    "sqr_imgs['scaled_img'] = sqr_imgs['img'].map(lambda x: scale_img(x))\n",
    "\n",
    "# sample = random.sample(sqr_imgs.index.tolist(), 10)\n",
    "\n",
    "# fig = plt.figure()\n",
    "# x = 1\n",
    "# for i in sample:\n",
    "#     img = sqr_imgs.iloc[i]['scaled_img']\n",
    "#     img = img.reshape(img.shape[1], img.shape[2])\n",
    "#     fig.add_subplot(5,2,x)\n",
    "#     plt.imshow(img, cmap = plt.get_cmap('gray'))\n",
    "#     x += 1"
   ]
  },
  {
   "cell_type": "markdown",
   "metadata": {},
   "source": [
    "#### Index 11162 is not a face"
   ]
  },
  {
   "cell_type": "code",
   "execution_count": 32,
   "metadata": {},
   "outputs": [
    {
     "name": "stdout",
     "output_type": "stream",
     "text": [
      "[20932, 37258, 14262, 4323, 15303, 14962, 38605, 11487, 4287, 9005]\n"
     ]
    },
    {
     "data": {
      "text/plain": [
       "<matplotlib.image.AxesImage at 0x1ea99662160>"
      ]
     },
     "execution_count": 32,
     "metadata": {},
     "output_type": "execute_result"
    },
    {
     "data": {
      "image/png": "[encoded data removed]",
      "text/plain": [
       "<matplotlib.figure.Figure at 0x1ea9958e5c0>"
      ]
     },
     "metadata": {},
     "output_type": "display_data"
    }
   ],
   "source": [
    "print(sample)\n",
    "plt.imshow(sqr_imgs.iloc[11162]['scaled_img'].reshape(96,96))"
   ]
  },
  {
   "cell_type": "markdown",
   "metadata": {},
   "source": [
    "#### dlib returns empty rectangles obj is no faces detected"
   ]
  },
  {
   "cell_type": "code",
   "execution_count": 33,
   "metadata": {},
   "outputs": [
    {
     "name": "stdout",
     "output_type": "stream",
     "text": [
      "0\n"
     ]
    }
   ],
   "source": [
    "import dlib\n",
    "\n",
    "test = np.array([[1,1],[1,1]]).astype(np.uint8)\n",
    "detector = dlib.get_frontal_face_detector()\n",
    "dets = detector(test)\n",
    "print(len(dets))\n",
    "for i, d in enumerate(dets):\n",
    "        print(d.left(), d.top(), d.right(), d.bottom())"
   ]
  },
  {
   "cell_type": "markdown",
   "metadata": {},
   "source": [
    "#### How many faces does dlib detect?\n",
    "\n",
    "It turns out dlib only detects about a third of the faces in the dataset. Might want to look into finding a better face detection module."
   ]
  },
  {
   "cell_type": "code",
   "execution_count": 34,
   "metadata": {},
   "outputs": [
    {
     "name": "stdout",
     "output_type": "stream",
     "text": [
      "True     27045\n",
      "False    11148\n",
      "Name: face_detected, dtype: int64\n"
     ]
    },
    {
     "name": "stderr",
     "output_type": "stream",
     "text": [
      "c:\\users\\lab\\anaconda3\\envs\\emotion\\lib\\site-packages\\ipykernel_launcher.py:15: SettingWithCopyWarning: \n",
      "A value is trying to be set on a copy of a slice from a DataFrame.\n",
      "Try using .loc[row_indexer,col_indexer] = value instead\n",
      "\n",
      "See the caveats in the documentation: http://pandas.pydata.org/pandas-docs/stable/indexing.html#indexing-view-versus-copy\n",
      "  from ipykernel import kernelapp as app\n"
     ]
    }
   ],
   "source": [
    "import dlib\n",
    "\n",
    "detector = dlib.get_frontal_face_detector()\n",
    "\n",
    "def face_detected(img):\n",
    "    img_copy = img.copy()\n",
    "    img_copy = img_copy.reshape(img_copy.shape[1], img_copy.shape[2]).astype(np.uint8)\n",
    "    dets = detector(img_copy)\n",
    "    \n",
    "    if len(dets) > 0:\n",
    "        return True\n",
    "    else:\n",
    "        return False\n",
    "\n",
    "sqr_imgs['face_detected'] = sqr_imgs['scaled_img'].map(face_detected)\n",
    "print(sqr_imgs['face_detected'].value_counts())\n",
    "\n",
    "\n",
    "# sample2 = random.sample(sqr_imgs[sqr_imgs['face_detected'] == False].index.tolist(), 10)\n",
    "# print(sample2)\n",
    "# fig = plt.figure()\n",
    "# x = 1\n",
    "# for i in sample2:\n",
    "#     fig.add_subplot(5, 2, x)\n",
    "#     img = sqr_imgs.iloc[i]['scaled_img'].reshape(90,90)\n",
    "#     plt.imshow(img, cmap = plt.get_cmap('gray'))\n",
    "#     x += 1\n",
    "    "
   ]
  },
  {
   "cell_type": "markdown",
   "metadata": {},
   "source": [
    "### Split into training and test sets"
   ]
  },
  {
   "cell_type": "code",
   "execution_count": 35,
   "metadata": {},
   "outputs": [
    {
     "name": "stdout",
     "output_type": "stream",
     "text": [
      "3    25.004582\n",
      "6    17.511062\n",
      "4    17.136648\n",
      "0    13.434399\n",
      "2    13.413453\n",
      "5    11.766554\n",
      "1     1.733302\n",
      "Name: emotion, dtype: float64\n"
     ]
    }
   ],
   "source": [
    "emo = ['Angry', 'Disgust', 'Fear', 'Happy',\n",
    "           'Sad', 'Surprise', 'Neutral']\n",
    "print(sqr_imgs['emotion'].value_counts().apply(lambda x: x/len(sqr_imgs)*100))"
   ]
  },
  {
   "cell_type": "markdown",
   "metadata": {},
   "source": [
    "#### Disgust only makes up 2% of the dataset, so it will be merged into Anger"
   ]
  },
  {
   "cell_type": "code",
   "execution_count": 13,
   "metadata": {},
   "outputs": [
    {
     "name": "stdout",
     "output_type": "stream",
     "text": [
      "2    25.004582\n",
      "5    17.511062\n",
      "3    17.136648\n",
      "0    15.167701\n",
      "1    13.413453\n",
      "4    11.766554\n",
      "Name: emotion, dtype: float64\n"
     ]
    },
    {
     "name": "stderr",
     "output_type": "stream",
     "text": [
      "c:\\users\\lab\\anaconda3\\envs\\emotion\\lib\\site-packages\\ipykernel_launcher.py:11: SettingWithCopyWarning: \n",
      "A value is trying to be set on a copy of a slice from a DataFrame.\n",
      "Try using .loc[row_indexer,col_indexer] = value instead\n",
      "\n",
      "See the caveats in the documentation: http://pandas.pydata.org/pandas-docs/stable/indexing.html#indexing-view-versus-copy\n",
      "  # This is added back by InteractiveShellApp.init_path()\n"
     ]
    }
   ],
   "source": [
    "#remap emotions so they range 0-5\n",
    "'''\n",
    "Current emotion map:\n",
    "emotion_map = {'Angry': 0, 'Disgust': 1, 'Fear': 2, 'Happy': 3,\n",
    "           'Sad': 4, 'Surprise': 5, 'Neutral': 6}\n",
    "'''\n",
    "def remap(x):\n",
    "    map = {0:0, 1:0, 2:1, 3:2, 4:3, 5:4, 6:5}\n",
    "    return map[x]\n",
    "\n",
    "sqr_imgs['emotion'] = sqr_imgs['emotion'].map(remap)\n",
    "\n",
    "print(sqr_imgs['emotion'].value_counts().apply(lambda x: x/len(sqr_imgs)*100))"
   ]
  },
  {
   "cell_type": "markdown",
   "metadata": {},
   "source": [
    "#### Split into train, cv, test (60%, 20%, 20%)"
   ]
  },
  {
   "cell_type": "code",
   "execution_count": 14,
   "metadata": {},
   "outputs": [
    {
     "name": "stdout",
     "output_type": "stream",
     "text": [
      "Training Set:\n",
      "X: 22915\n",
      "y: 22915\n",
      "\n",
      "CV Set:\n",
      "X: 7639\n",
      "y: 7639\n",
      "\n",
      "Test Set:\n",
      "X: 7639\n",
      "y: 7639\n",
      "\n"
     ]
    }
   ],
   "source": [
    "from sklearn.model_selection import train_test_split\n",
    "\n",
    "X = np.array(sqr_imgs['scaled_img2'].values.tolist())\n",
    "y = np.array(sqr_imgs['emotion'].values.tolist())\n",
    "\n",
    "\n",
    "X_train, X_40, y_train, y_40 = train_test_split(X, y, test_size=.4, random_state=42)\n",
    "#create cross validation set\n",
    "X_cv, X_test, y_cv, y_test = train_test_split(X_40, y_40, test_size=.5, random_state=42)\n",
    "print('Training Set:\\nX: {}\\ny: {}\\n'.format(len(X_train), len(y_train)))\n",
    "print('CV Set:\\nX: {}\\ny: {}\\n'.format(len(X_cv), len(y_cv)))\n",
    "print('Test Set:\\nX: {}\\ny: {}\\n'.format(len(X_test), len(y_test)))\n"
   ]
  },
  {
   "cell_type": "markdown",
   "metadata": {},
   "source": [
    "#### Convert to categorical arrays, and save to file"
   ]
  },
  {
   "cell_type": "code",
   "execution_count": 16,
   "metadata": {},
   "outputs": [
    {
     "name": "stdout",
     "output_type": "stream",
     "text": [
      "X:\n",
      "(22915, 1, 192, 192) (7639, 1, 192, 192) (7639, 1, 192, 192)\n",
      "Y:\n",
      "(22915, 6) (7639, 6) (7639, 6)\n"
     ]
    },
    {
     "ename": "FileNotFoundError",
     "evalue": "[Errno 2] No such file or directory: 'Documents/FaceyMcFaceFace/data/X_train_192.npy'",
     "output_type": "error",
     "traceback": [
      "\u001b[1;31m---------------------------------------------------------------------------\u001b[0m",
      "\u001b[1;31mFileNotFoundError\u001b[0m                         Traceback (most recent call last)",
      "\u001b[1;32m<ipython-input-16-d73398f75f93>\u001b[0m in \u001b[0;36m<module>\u001b[1;34m()\u001b[0m\n\u001b[0;32m     10\u001b[0m \u001b[0mprint\u001b[0m\u001b[1;33m(\u001b[0m\u001b[0mY_train\u001b[0m\u001b[1;33m.\u001b[0m\u001b[0mshape\u001b[0m\u001b[1;33m,\u001b[0m \u001b[0mY_cv\u001b[0m\u001b[1;33m.\u001b[0m\u001b[0mshape\u001b[0m\u001b[1;33m,\u001b[0m \u001b[0mY_test\u001b[0m\u001b[1;33m.\u001b[0m\u001b[0mshape\u001b[0m\u001b[1;33m)\u001b[0m\u001b[1;33m\u001b[0m\u001b[0m\n\u001b[0;32m     11\u001b[0m \u001b[1;33m\u001b[0m\u001b[0m\n\u001b[1;32m---> 12\u001b[1;33m \u001b[0mnp\u001b[0m\u001b[1;33m.\u001b[0m\u001b[0msave\u001b[0m\u001b[1;33m(\u001b[0m\u001b[1;34m'Documents/FaceyMcFaceFace/data/X_train_192'\u001b[0m\u001b[1;33m,\u001b[0m \u001b[0mX_train\u001b[0m\u001b[1;33m)\u001b[0m\u001b[1;33m\u001b[0m\u001b[0m\n\u001b[0m\u001b[0;32m     13\u001b[0m \u001b[0mnp\u001b[0m\u001b[1;33m.\u001b[0m\u001b[0msave\u001b[0m\u001b[1;33m(\u001b[0m\u001b[1;34m'Documents/FaceyMcFaceFace/data/Y_train_192'\u001b[0m\u001b[1;33m,\u001b[0m \u001b[0mY_train\u001b[0m\u001b[1;33m)\u001b[0m\u001b[1;33m\u001b[0m\u001b[0m\n\u001b[0;32m     14\u001b[0m \u001b[0mnp\u001b[0m\u001b[1;33m.\u001b[0m\u001b[0msave\u001b[0m\u001b[1;33m(\u001b[0m\u001b[1;34m'Documents/FaceyMcFaceFace/data/X_cv_192'\u001b[0m\u001b[1;33m,\u001b[0m \u001b[0mX_cv\u001b[0m\u001b[1;33m)\u001b[0m\u001b[1;33m\u001b[0m\u001b[0m\n",
      "\u001b[1;32mc:\\users\\lab\\anaconda3\\envs\\emotion\\lib\\site-packages\\numpy\\lib\\npyio.py\u001b[0m in \u001b[0;36msave\u001b[1;34m(file, arr, allow_pickle, fix_imports)\u001b[0m\n\u001b[0;32m    488\u001b[0m         \u001b[1;32mif\u001b[0m \u001b[1;32mnot\u001b[0m \u001b[0mfile\u001b[0m\u001b[1;33m.\u001b[0m\u001b[0mendswith\u001b[0m\u001b[1;33m(\u001b[0m\u001b[1;34m'.npy'\u001b[0m\u001b[1;33m)\u001b[0m\u001b[1;33m:\u001b[0m\u001b[1;33m\u001b[0m\u001b[0m\n\u001b[0;32m    489\u001b[0m             \u001b[0mfile\u001b[0m \u001b[1;33m=\u001b[0m \u001b[0mfile\u001b[0m \u001b[1;33m+\u001b[0m \u001b[1;34m'.npy'\u001b[0m\u001b[1;33m\u001b[0m\u001b[0m\n\u001b[1;32m--> 490\u001b[1;33m         \u001b[0mfid\u001b[0m \u001b[1;33m=\u001b[0m \u001b[0mopen\u001b[0m\u001b[1;33m(\u001b[0m\u001b[0mfile\u001b[0m\u001b[1;33m,\u001b[0m \u001b[1;34m\"wb\"\u001b[0m\u001b[1;33m)\u001b[0m\u001b[1;33m\u001b[0m\u001b[0m\n\u001b[0m\u001b[0;32m    491\u001b[0m         \u001b[0mown_fid\u001b[0m \u001b[1;33m=\u001b[0m \u001b[1;32mTrue\u001b[0m\u001b[1;33m\u001b[0m\u001b[0m\n\u001b[0;32m    492\u001b[0m     \u001b[1;32melif\u001b[0m \u001b[0mis_pathlib_path\u001b[0m\u001b[1;33m(\u001b[0m\u001b[0mfile\u001b[0m\u001b[1;33m)\u001b[0m\u001b[1;33m:\u001b[0m\u001b[1;33m\u001b[0m\u001b[0m\n",
      "\u001b[1;31mFileNotFoundError\u001b[0m: [Errno 2] No such file or directory: 'Documents/FaceyMcFaceFace/data/X_train_192.npy'"
     ]
    }
   ],
   "source": [
    "from keras.utils.np_utils import to_categorical\n",
    "\n",
    "Y_train = to_categorical(y_train)\n",
    "Y_cv = to_categorical(y_cv)\n",
    "Y_test = to_categorical(y_test)\n",
    "\n",
    "print('X:')\n",
    "print(X_train.shape, X_cv.shape, X_test.shape)\n",
    "print('Y:')\n",
    "print(Y_train.shape, Y_cv.shape, Y_test.shape)\n",
    "\n",
    "np.save('Documents/FaceyMcFaceFace/data/X_train_192', X_train)\n",
    "np.save('Documents/FaceyMcFaceFace/data/Y_train_192', Y_train)\n",
    "np.save('Documents/FaceyMcFaceFace/data/X_cv_192', X_cv)\n",
    "np.save('Documents/FaceyMcFaceFace/data/Y_cv_192', Y_cv)\n",
    "np.save('Documents/FaceyMcFaceFace/data/X_test_192', X_test)\n",
    "np.save('Documents/FaceyMcFaceFace/data/Y_test_192', Y_test)"
   ]
  },
  {
   "cell_type": "code",
   "execution_count": 39,
   "metadata": {},
   "outputs": [
    {
     "name": "stdout",
     "output_type": "stream",
     "text": [
      "(22915, 1, 96, 96) (22915, 6)\n",
      "(7639, 1, 96, 96) (7639, 6)\n"
     ]
    }
   ],
   "source": [
    "X_train_fname = './data/X_train.npy'\n",
    "Y_train_fname = './data/Y_train.npy'\n",
    "X_train_test = np.load(X_train_fname)\n",
    "Y_train_test = np.load(Y_train_fname)\n",
    "X_cv_fname = './data/X_cv.npy'\n",
    "Y_cv_fname = './data/Y_cv.npy'\n",
    "X_cv_test = np.load(X_cv_fname)\n",
    "Y_cv_test = np.load(Y_cv_fname)\n",
    "\n",
    "print(X_train_test.shape, Y_train_test.shape)\n",
    "print(X_cv_test.shape, Y_cv_test.shape)"
   ]
  },
  {
   "cell_type": "code",
   "execution_count": 46,
   "metadata": {},
   "outputs": [
    {
     "data": {
      "image/png": "[encoded data removed]",
      "text/plain": [
       "<matplotlib.figure.Figure at 0x1ea99748860>"
      ]
     },
     "metadata": {},
     "output_type": "display_data"
    }
   ],
   "source": [
    "fig = plt.figure()\n",
    "x = 1\n",
    "for img in X_train_test[:10]:\n",
    "    img = img.reshape(96,96)\n",
    "    fig.add_subplot(5, 2, x)\n",
    "    plt.imshow(img)\n",
    "    x += 1 "
   ]
  },
  {
   "cell_type": "code",
   "execution_count": 43,
   "metadata": {},
   "outputs": [
    {
     "name": "stderr",
     "output_type": "stream",
     "text": [
      "c:\\users\\lab\\anaconda3\\envs\\emotion\\lib\\site-packages\\keras\\preprocessing\\image.py:648: UserWarning: Expected input to be images (as Numpy array) following the data format convention \"channels_first\" (channels on axis 1), i.e. expected either 1, 3 or 4 channels on axis 1. However, it was passed an array with shape (22915, 1, 96, 96) (1 channels).\n",
      "  ' (' + str(x.shape[self.channel_axis]) + ' channels).')\n"
     ]
    },
    {
     "name": "stdout",
     "output_type": "stream",
     "text": [
      "(22915, 1, 96, 96)\n"
     ]
    }
   ],
   "source": [
    "from keras.preprocessing.image import ImageDataGenerator\n",
    "from keras import backend as K\n",
    "K.set_image_dim_ordering('th')\n",
    "datagen = ImageDataGenerator(rescale=1./255,\n",
    "                             rotation_range=10,\n",
    "                             shear_range=0.2,\n",
    "                             width_shift_range=0.2,\n",
    "                             height_shift_range=0.2,\n",
    "                             horizontal_flip=True)\n",
    "\n",
    "datagen.fit(X_train)\n",
    "print(datagen.flow(X_train, Y_train, batch_size=50000).next()[0].shape)"
   ]
  },
  {
   "cell_type": "markdown",
   "metadata": {},
   "source": [
    "### Create 192x192 dataset"
   ]
  },
  {
   "cell_type": "code",
   "execution_count": 11,
   "metadata": {},
   "outputs": [
    {
     "name": "stderr",
     "output_type": "stream",
     "text": [
      "c:\\users\\lab\\anaconda3\\envs\\emotion\\lib\\site-packages\\ipykernel_launcher.py:1: SettingWithCopyWarning: \n",
      "A value is trying to be set on a copy of a slice from a DataFrame.\n",
      "Try using .loc[row_indexer,col_indexer] = value instead\n",
      "\n",
      "See the caveats in the documentation: http://pandas.pydata.org/pandas-docs/stable/indexing.html#indexing-view-versus-copy\n",
      "  \"\"\"Entry point for launching an IPython kernel.\n"
     ]
    }
   ],
   "source": [
    "sqr_imgs['scaled_img2'] = sqr_imgs['img'].map(lambda x: scale_img(x, size=(192,192)))\n"
   ]
  }
 ],
 "metadata": {
  "kernelspec": {
   "display_name": "Python 3",
   "language": "python",
   "name": "python3"
  },
  "language_info": {
   "codemirror_mode": {
    "name": "ipython",
    "version": 3
   },
   "file_extension": ".py",
   "mimetype": "text/x-python",
   "name": "python",
   "nbconvert_exporter": "python",
   "pygments_lexer": "ipython3",
   "version": "3.5.0"
  }
 },
 "nbformat": 4,
 "nbformat_minor": 2
}
